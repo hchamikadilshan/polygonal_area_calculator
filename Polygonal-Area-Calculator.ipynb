{
 "cells": [
  {
   "cell_type": "code",
   "execution_count": 26,
   "metadata": {},
   "outputs": [],
   "source": [
    "class Rectangle:\n",
    "    \n",
    "    def __init__(self,width,height):\n",
    "        self.width=width\n",
    "        self.height=height\n",
    "        \n",
    "    def set_width(self,width):\n",
    "        self.width=width\n",
    "        \n",
    "    def set_height(self,height):\n",
    "        self.height=height\n",
    "        \n",
    "    def get_area(self):\n",
    "        return (self.width*self.height)\n",
    "    \n",
    "    def get_perimeter(self):\n",
    "        return (2 * self.width + 2 * self.height)\n",
    "    \n",
    "    def get_diagonal(self):\n",
    "        return ((self.width ** 2 + self.height ** 2) ** 0.5)\n",
    "    \n",
    "    def get_picture(self):\n",
    "        if self.width > 50 or self.height > 50:\n",
    "            return \"Too big for picture\"\n",
    "        else:\n",
    "            picture=\"\"\n",
    "            for i in range(self.height):\n",
    "                for j in range(self.width):\n",
    "                    picture += \"*\"\n",
    "                picture+= \"\\n\"\n",
    "            return picture\n",
    "    def __str__(self):\n",
    "        return f\"Rectangle(width={self.width}, heigth={self.height})\"\n",
    "    \n",
    "    def get_amount_inside(self,polygon):\n",
    "        area_of_outer=self.get_area()\n",
    "        area_of_inner=polygon.get_area()\n",
    "        polygons_inside=area_of_outer//area_of_inner\n",
    "        return polygons_inside\n",
    "        \n",
    "class Square(Rectangle):\n",
    "    \n",
    "    def __init__(self,length):\n",
    "        super().__init__(length,length)\n",
    "        \n",
    "    def set_side(self,length):\n",
    "        super().set_height(length)\n",
    "        super().set_width(length)\n",
    "    \n",
    "    def __str__(self):\n",
    "        return f\"Square(side={self.width})\""
   ]
  },
  {
   "cell_type": "code",
   "execution_count": 30,
   "metadata": {},
   "outputs": [
    {
     "name": "stdout",
     "output_type": "stream",
     "text": [
      "50\n",
      "26\n",
      "Rectangle(width=10, heigth=3)\n",
      "**********\n",
      "**********\n",
      "**********\n",
      "\n"
     ]
    }
   ],
   "source": [
    "rect = Rectangle(10, 5)\n",
    "print(rect.get_area())\n",
    "rect.set_height(3)\n",
    "print(rect.get_perimeter())\n",
    "print(rect)\n",
    "print(rect.get_picture())"
   ]
  },
  {
   "cell_type": "code",
   "execution_count": 33,
   "metadata": {},
   "outputs": [
    {
     "name": "stdout",
     "output_type": "stream",
     "text": [
      "81\n",
      "5.656854249492381\n",
      "Square(side=4)\n",
      "****\n",
      "****\n",
      "****\n",
      "****\n",
      "\n"
     ]
    }
   ],
   "source": [
    "sq = Square(9)\n",
    "print(sq.get_area())\n",
    "sq.set_side(4)\n",
    "print(sq.get_diagonal())\n",
    "print(sq)\n",
    "print(sq.get_picture())"
   ]
  },
  {
   "cell_type": "code",
   "execution_count": 34,
   "metadata": {},
   "outputs": [
    {
     "name": "stdout",
     "output_type": "stream",
     "text": [
      "8\n"
     ]
    }
   ],
   "source": [
    "rect.set_height(8)\n",
    "rect.set_width(16)\n",
    "print(rect.get_amount_inside(sq))"
   ]
  },
  {
   "cell_type": "code",
   "execution_count": null,
   "metadata": {},
   "outputs": [],
   "source": []
  }
 ],
 "metadata": {
  "kernelspec": {
   "display_name": "Python 3",
   "language": "python",
   "name": "python3"
  },
  "language_info": {
   "codemirror_mode": {
    "name": "ipython",
    "version": 3
   },
   "file_extension": ".py",
   "mimetype": "text/x-python",
   "name": "python",
   "nbconvert_exporter": "python",
   "pygments_lexer": "ipython3",
   "version": "3.8.5"
  }
 },
 "nbformat": 4,
 "nbformat_minor": 4
}
